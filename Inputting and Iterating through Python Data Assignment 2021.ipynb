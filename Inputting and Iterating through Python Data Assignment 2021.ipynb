{
 "cells": [
  {
   "cell_type": "markdown",
   "metadata": {},
   "source": [
    "# Plese Note:\n",
    "\n",
    "- Please complete the assignments in the cells provided.  You may use additional cells <b><i>below</i></b> the cell provided for each problem but not above.\n",
    "- <b><i>All exercises are to be completed with either <font face='courier'>for</font> loops or list comprehension.  Using the the <font face='courier'>numpy</font> package is not permitted.  The goal of this assignment is to ensure competency in base Python methods.\n",
    "\n"
   ]
  },
  {
   "cell_type": "markdown",
   "metadata": {},
   "source": [
    "# Exercise 1: Visualize a MNIST Character\n",
    "\n",
    "The MNIST data set is often used a people's first example in a neural networks course.  It is a database fo 60,000 handwritten images of numerical digits from 0 to 9.  Your Artificial Intelligence course will also take this tack. Here is a link to the origin of the MNIST dataset: [MNIST Origin Page](http://yann.lecun.com/exdb/mnist/). Here is a more convenient place to download the MNIST data in CSV format: [MNIST in CSV from Kaggle](https://www.kaggle.com/oddrationale/mnist-in-csv/downloads/mnist-in-csv.zip/2/).  I have downloaded the data from the second source and made it available to you.  Its zip file includes two files <i>mnist_test.csv</i> and <i>mnist_train.csv</i>.  We will use the former file, which included 10,000 images. \n",
    "\n",
    "Each MNIST character is 28 $\\times$ 28 pixels, each of which are coded in grayscale as represented by a digit from 0 to 255.  The data for each image in <i>mnist_train.csv</i> is given as 784 characters ($28 \\times 28$) on a single line.\n",
    "\n",
    "The data for one example MNIST character from the file <font face = 'courier'>ministEg.txt</font> is shown below as is the character it represents.  The original MNIST data have been converted into 28 lines of 28 data elements so that it can be more easily inputted into a 28 $\\times$ 28 array or list of lists and, subsequently, rendered by matplotlib.     \n",
    "![MNIST Example Data](images/mnistEg.jpg)\n",
    "![MNIST character Image](images/mnist7.jpg)\n",
    "\n",
    "## The Task\n",
    "Import the data from  <font face = 'courier'>ministEg.txt</font>, put it into a list of lists with numerical elements, and plot it with the <font face = 'courier'>matplotlib</font> package as was done in lecture with other images.  Specifically, render the image using the <font face = 'courier'>plt.imshow()</font> and <font face = 'courier'>plt.show()</font> commands as we did in class.  The argument <font face = 'courier'>cmap = 'gray'</font> communicates to <font face = 'courier'>matplotlib</font> that the data reflect a grayscale image.  The <font face = 'courier'>import</font> statement and the aforementioned commands are included in the cell below for convenience."
   ]
  },
  {
   "cell_type": "code",
   "execution_count": null,
   "metadata": {
    "collapsed": true
   },
   "outputs": [],
   "source": [
    "%matplotlib inline\n",
    "import matplotlib.pyplot as plt\n",
    "\n",
    "\n",
    "\n",
    "plt.imshow(pixels, cmap='gray')        \n",
    "plt.show()  "
   ]
  },
  {
   "cell_type": "markdown",
   "metadata": {},
   "source": [
    "# Exercise 2: Import data from <font face='courier'>mnist_train_partial.csv</font> and create two lists from it \n",
    "\n",
    "- Create a variable named <font face = 'courier'>labels</font> that is a list of the 0th element in each line of the <font face='courier'>mnist_train_partial.csv</font> file that denotes which integer is represented in the image.  \n",
    "- Create a second variable <font face = 'courier'>pixels</font> which contains _flattened_ representations of the image data with a number of rows (sublists) equal to the number of images with each row having 784 data elements.  This flattened format is required with some neural network models.\n",
    "- The first row of <font face='courier'>mnist_train_partial.csv</font> contains column headings.  You may ignore this row.\n",
    "- Place the contents of the rows into <font face='courier'>label</font> and <font face='courier'>pixels</font> and print those 10 elements from <font face='courier'>labels</font> and <font face='courier'>pixels</font>."
   ]
  },
  {
   "cell_type": "code",
   "execution_count": null,
   "metadata": {
    "collapsed": true
   },
   "outputs": [],
   "source": [
    "''' Put your code here '''\n",
    "\n",
    "print(labels)\n",
    "print(pixels)"
   ]
  },
  {
   "cell_type": "markdown",
   "metadata": {},
   "source": [
    "# Exercise 3: Import data from  <font face='courier'>mnist_train_partial.csv</font> and create a list of lists\n",
    "\n",
    "<font face='courier'>mnist_train_partial.csv</font> gives the data for the 784 pixels of each character on a single line, with the first element being the <font face='courier'>label</font> of the image, which indicates the numerical digit represented in the image. The first line of the file is a legend that describes the format of the remaining 10 lines.  \n",
    "\n",
    "- Create a variable named <font face='courier'>mnist</font>, which ultimately will be a list of lists\n",
    "- Do the following for the lines in <font face='courier'>mnist_train_partial.csv</font>\n",
    "    - Insert a sublist into the list named <font face='courier'>mnist</font> for each line in <font face='courier'>mnist_train_partial.csv</font> \n",
    "    - The 0-th element in the sublists should be the image label\n",
    "    - The 1-st element in the sublists should be a 1-dimensional list of the image data\n",
    "- Note that the <font face='courier'>mnist</font> list of lists has a maximum depth of three lists, that is, it is a list of lists of lists. "
   ]
  },
  {
   "cell_type": "code",
   "execution_count": null,
   "metadata": {
    "collapsed": true
   },
   "outputs": [],
   "source": [
    "''' Put your code here '''\n",
    "\n",
    "print(mnist)"
   ]
  },
  {
   "cell_type": "markdown",
   "metadata": {},
   "source": [
    "# Exercise 4\n",
    "Modify your solution to <b>Exercise 3</b> so that the new lists of lists <font face='courier'>mnist1</font>  has these elements:\n",
    "- Its 0th element is the image label\n",
    "- Its 1st element is a list of lists with 28 sublists each with 28 elements\n",
    "When this task is successfully finished, you should be able to plot characters with the code in the second cell below."
   ]
  },
  {
   "cell_type": "code",
   "execution_count": null,
   "metadata": {
    "collapsed": true
   },
   "outputs": [],
   "source": [
    "''' Put your code here '''\n",
    "\n",
    "print(mnist1)"
   ]
  },
  {
   "cell_type": "code",
   "execution_count": null,
   "metadata": {
    "collapsed": true
   },
   "outputs": [],
   "source": [
    "# This code will render the specified MNIST images if the exercise above is done successfully\n",
    "import matplotlib.pyplot as plt\n",
    "\n",
    "characterIndex = 0  # line number index from text file from 0 to 9\n",
    "print('MNIST label: ',mnist[characterIndex][0])\n",
    "plt.imshow(mnist1[characterIndex][1], cmap='gray')        \n",
    "plt.show()  "
   ]
  },
  {
   "cell_type": "markdown",
   "metadata": {},
   "source": [
    "# Exercise 5: Alter the Image in the <font face='courier'>mnistEg.txt</font> File \n",
    "\n",
    "Read in the file <font face='courier'>mnistEg.txt</font> and alter the data so that the pixels on both diagonals are red.  In other words, there should be a red 'X' over the top of the image.  Render the image with <font face='courier'>matplotlib</font>.\n",
    "\n",
    "Hints: Gray scale colors have equal proportions red, green, and blue (RGB) hues, as in these examples:    \n",
    "  - Black: (R,G,B) = (0,0,0)\n",
    "  - White: (R,G,B) = (255,255,255)\n",
    "  - Medium Gray: (R,G,B) = (128,128,128)\n",
    "  - Dark Gray: (R,G,B) = (80,80,80)\n",
    "\n",
    "Also, the RGB code for red is (255,0,0)."
   ]
  },
  {
   "cell_type": "code",
   "execution_count": null,
   "metadata": {
    "collapsed": true
   },
   "outputs": [],
   "source": [
    "''' Put your code here '''\n",
    "\n",
    "plt.imshow()\n",
    "plt.show()"
   ]
  },
  {
   "cell_type": "markdown",
   "metadata": {},
   "source": [
    "# Exercise 6\n",
    "\n",
    "Open the file named <font face='courier'>Q.txt</font> and convert it into a list of lists with numerical elements where each line of the text file constitutes the contents destined for each sublist.  Use the variable name <font face='courier'>Q</font> for this list of lists."
   ]
  },
  {
   "cell_type": "code",
   "execution_count": null,
   "metadata": {
    "collapsed": true
   },
   "outputs": [],
   "source": [
    "''' Put your code here '''\n",
    "\n",
    "print(Q)"
   ]
  },
  {
   "cell_type": "markdown",
   "metadata": {},
   "source": [
    "# Exercise 7\n",
    "\n",
    "Open the file named <font face='courier'>L.txt</font> and convert it into a list with numerical elements where each line of the text file constitutes the contents destined for an element of the list.  Create a list of lists in the variable name <font face='courier'>Lambda</font> that has all zero elements except along the diagonal where you should put the values from <font face='courier'>L.txt</font> in the order they appear in <font face='courier'>L.txt</font>."
   ]
  },
  {
   "cell_type": "code",
   "execution_count": null,
   "metadata": {
    "collapsed": true
   },
   "outputs": [],
   "source": [
    "''' Put your code here '''\n",
    "\n",
    "print(Lambda)"
   ]
  },
  {
   "cell_type": "markdown",
   "metadata": {},
   "source": [
    "# Exercise 8\n",
    "\n",
    "Use for loops to transpose the list of lists in variable <font face='courier'>Q</font> and use the variable name <font face='courier'>QT</font> for the result."
   ]
  },
  {
   "cell_type": "code",
   "execution_count": null,
   "metadata": {
    "collapsed": true
   },
   "outputs": [],
   "source": [
    "''' Put your code here '''\n",
    "\n",
    "print(QT)"
   ]
  },
  {
   "cell_type": "markdown",
   "metadata": {},
   "source": [
    "# Exercise 9\n",
    "\n",
    "Square, real symmetric matrices, such as the one we represent here with $A$, can be factored into three matrices of this form:\n",
    "\n",
    "$A = Q \\Lambda Q^T $\n",
    "\n",
    "Reconstitute the matrix A using the formula above and the list of lists, <font face='courier'>Q</font>, <font face='courier'>Lambda</font>, and   <font face='courier'>QT</font>  you have defined.  \n",
    "\n",
    "Hint: Round each matrix element of the result to an integer.  A distinct pattern will be present in the result if you have done the computation correctly."
   ]
  },
  {
   "cell_type": "code",
   "execution_count": null,
   "metadata": {
    "collapsed": true
   },
   "outputs": [],
   "source": [
    "''' Put your code here '''\n",
    "\n",
    "print(A)"
   ]
  },
  {
   "cell_type": "markdown",
   "metadata": {},
   "source": [
    "# Exercise 10\n",
    "The data in the file <font face = 'courier'>npFull.txt</font> contains information about United States National Parks.  The first data element in each line of the file contains the name of the national park.  The remaining fields represent various data about each park including:\n",
    "- The states where the park is located\n",
    "- Park acreage\n",
    "- Number of visitors to each park in 2018\n",
    "- Latitude and Longitude\n",
    "- Date that each park was established\n",
    "\n",
    "Perform these tasks with the data\n",
    "- Read the data file, converting each numerical element of data into a numerical Python element\n",
    "- Create a dictionary <font face = 'courier'>natParkDict</font>\n",
    "    - The keys are the  name of the parks\n",
    "    - The dictionary values are the remaining data elements in each file line, inserted into a list"
   ]
  },
  {
   "cell_type": "code",
   "execution_count": null,
   "metadata": {
    "collapsed": true
   },
   "outputs": [],
   "source": [
    "''' Put your code here '''\n",
    "\n",
    "print(natParkDict)"
   ]
  },
  {
   "cell_type": "markdown",
   "metadata": {},
   "source": [
    "# Exercise 11\n",
    "Repeat <b>Exercise 2</b> using list comprehension while naming the resulting lists <font face = 'courier'>labels1</font> and <font face = 'courier'>pixels1</font>."
   ]
  },
  {
   "cell_type": "code",
   "execution_count": null,
   "metadata": {
    "collapsed": true
   },
   "outputs": [],
   "source": [
    "''' Put your code here '''\n",
    "\n",
    "print(labels1)\n",
    "print(pixels1)"
   ]
  },
  {
   "cell_type": "markdown",
   "metadata": {},
   "source": [
    "# Exercise 12\n",
    "Repeat <b>Exercise 3</b> using list comprehension while naming the resulting data structure <font face = 'courier'>mnist2</font>."
   ]
  },
  {
   "cell_type": "code",
   "execution_count": null,
   "metadata": {
    "collapsed": true
   },
   "outputs": [],
   "source": [
    "''' Put your code here '''\n",
    "\n",
    "print(mnist2)"
   ]
  },
  {
   "cell_type": "markdown",
   "metadata": {},
   "source": [
    "# Exercise 13\n",
    "Repeat <b>Exercise 4</b> using list comprehension while naming the resulting data structure <font face = 'courier'>mnist3</font>."
   ]
  },
  {
   "cell_type": "code",
   "execution_count": null,
   "metadata": {
    "collapsed": true
   },
   "outputs": [],
   "source": [
    "''' Put your code here '''\n",
    "\n",
    "print(mnist3)"
   ]
  }
 ],
 "metadata": {
  "kernelspec": {
   "display_name": "Python 3",
   "language": "python",
   "name": "python3"
  },
  "language_info": {
   "codemirror_mode": {
    "name": "ipython",
    "version": 3
   },
   "file_extension": ".py",
   "mimetype": "text/x-python",
   "name": "python",
   "nbconvert_exporter": "python",
   "pygments_lexer": "ipython3",
   "version": "3.8.5"
  }
 },
 "nbformat": 4,
 "nbformat_minor": 2
}
